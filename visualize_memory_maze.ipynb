{
 "cells": [
  {
   "cell_type": "code",
   "execution_count": null,
   "metadata": {},
   "outputs": [],
   "source": [
    "import json\n",
    "\n",
    "with open('samples_zhihu_pro.jsonl', 'r') as f:\n",
    "    samples = []\n",
    "    for line in f:\n",
    "        samples.append(json.loads(line))\n",
    "sample = samples[0]['memory_maze']"
   ]
  },
  {
   "cell_type": "code",
   "execution_count": null,
   "metadata": {},
   "outputs": [],
   "source": [
    "from treelib import Tree\n",
    "\n",
    "tree = Tree()\n",
    "\n",
    "tree.create_node(\"None\", \"root\")\n",
    "for k, v in reversed(list(sample.items())):\n",
    "    if k == 'root':\n",
    "        pass\n",
    "    else:\n",
    "        tree.create_node(v['content'], k, parent=v['parent'])"
   ]
  },
  {
   "cell_type": "code",
   "execution_count": null,
   "metadata": {},
   "outputs": [],
   "source": [
    "print(tree.show(stdout=False))"
   ]
  },
  {
   "cell_type": "code",
   "execution_count": null,
   "metadata": {},
   "outputs": [],
   "source": []
  }
 ],
 "metadata": {
  "kernelspec": {
   "display_name": "midreal",
   "language": "python",
   "name": "python3"
  },
  "language_info": {
   "codemirror_mode": {
    "name": "ipython",
    "version": 3
   },
   "file_extension": ".py",
   "mimetype": "text/x-python",
   "name": "python",
   "nbconvert_exporter": "python",
   "pygments_lexer": "ipython3",
   "version": "3.9.18"
  }
 },
 "nbformat": 4,
 "nbformat_minor": 2
}
