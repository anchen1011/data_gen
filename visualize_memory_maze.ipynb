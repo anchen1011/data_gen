{
 "cells": [
  {
   "cell_type": "code",
   "execution_count": null,
   "metadata": {},
   "outputs": [],
   "source": [
    "import json\n",
    "\n",
    "with open('samples_zhihu_pro.jsonl', 'r') as f:\n",
    "    samples = []\n",
    "    for line in f:\n",
    "        samples.append(json.loads(line))\n",
    "sample = samples[0]['memory_maze']\n",
    "# sample"
   ]
  },
  {
   "cell_type": "code",
   "execution_count": null,
   "metadata": {},
   "outputs": [],
   "source": [
    "import re\n",
    "\n",
    "def custom_sort_key(item):\n",
    "    # Regular expression to match strings like 'sl1_0'\n",
    "    if item == 'root':\n",
    "        return (-1, 0, 0)\n",
    "    match = re.match(r'sl(\\d+)_(\\d+)', item)\n",
    "    if match:\n",
    "        # Use negative of the first number so that sorting is in descending order for 'a'\n",
    "        # and normal ascending order for 'b'\n",
    "        a, b = int(match.group(1)), int(match.group(2))\n",
    "        # Use a tuple with a first element that makes 'sl' items sort before numeric ones\n",
    "        return (0, -a, b)\n",
    "    else:\n",
    "        # Regular numeric items are sorted in ascending order,\n",
    "        # use a first tuple element that makes them sort after 'sl' items\n",
    "        return (1, int(item))\n",
    "\n",
    "nodes = sorted(list(reversed(list(sample.keys()))), key=custom_sort_key)"
   ]
  },
  {
   "cell_type": "code",
   "execution_count": null,
   "metadata": {},
   "outputs": [],
   "source": [
    "from treelib import Tree\n",
    "\n",
    "tree = Tree()\n",
    "\n",
    "tree.create_node(\"Root\", \"root\")\n",
    "for k in nodes[1:]:\n",
    "    v = sample[k]\n",
    "    tree.create_node(v['content'].replace('\\n', ''), k, parent=v['parent'])"
   ]
  },
  {
   "cell_type": "code",
   "execution_count": null,
   "metadata": {},
   "outputs": [],
   "source": [
    "print(tree.show(stdout=False, sorting=False))"
   ]
  },
  {
   "cell_type": "code",
   "execution_count": null,
   "metadata": {},
   "outputs": [],
   "source": []
  }
 ],
 "metadata": {
  "kernelspec": {
   "display_name": "midreal",
   "language": "python",
   "name": "python3"
  },
  "language_info": {
   "codemirror_mode": {
    "name": "ipython",
    "version": 3
   },
   "file_extension": ".py",
   "mimetype": "text/x-python",
   "name": "python",
   "nbconvert_exporter": "python",
   "pygments_lexer": "ipython3",
   "version": "3.9.18"
  }
 },
 "nbformat": 4,
 "nbformat_minor": 2
}
