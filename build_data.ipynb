{
 "cells": [
  {
   "cell_type": "markdown",
   "metadata": {},
   "source": [
    "## Build Data"
   ]
  },
  {
   "cell_type": "code",
   "execution_count": null,
   "metadata": {},
   "outputs": [],
   "source": [
    "import sys\n",
    "sys.path.append('..')\n",
    "filename = 'samples_zhihu_pro.jsonl'\n",
    "lang = 'Chinese'"
   ]
  },
  {
   "cell_type": "code",
   "execution_count": null,
   "metadata": {},
   "outputs": [],
   "source": [
    "import jsonlines\n",
    "samples_pro = []\n",
    "with jsonlines.open(filename) as reader:\n",
    "    for item in reader:\n",
    "        samples_pro.append(item)"
   ]
  },
  {
   "cell_type": "code",
   "execution_count": null,
   "metadata": {},
   "outputs": [],
   "source": [
    "import re\n",
    "from utils.lang_utils import cut_sent\n",
    "i = 500\n",
    "j = 1\n",
    "for k in samples_pro[i]['memory_maze']:\n",
    "    if k.startswith(f'sl{j}'):\n",
    "        for sent in cut_sent(samples_pro[i]['memory_maze'][k]['content']):\n",
    "            print(sent)\n",
    "        print(\"*****\")"
   ]
  },
  {
   "cell_type": "code",
   "execution_count": null,
   "metadata": {},
   "outputs": [],
   "source": [
    "# print(samples_pro[0]['passage'])"
   ]
  },
  {
   "cell_type": "code",
   "execution_count": null,
   "metadata": {},
   "outputs": [],
   "source": [
    "samples_pro = [sample for sample in samples_pro if 'memory_maze' in sample]\n",
    "len(samples_pro)"
   ]
  },
  {
   "cell_type": "code",
   "execution_count": null,
   "metadata": {},
   "outputs": [],
   "source": [
    "from agents.memory_tree import MemoryTree\n",
    "from utils.file_utils import jsonl_filename_suffix\n",
    "def build_lines_one(sample, end_idx=10):\n",
    "    mem = MemoryTree(sample['memory_maze'])\n",
    "    sents = mem.get_originals()\n",
    "    sents = ['\\n'.join(cut_sent(s)) for s in sents if s.strip()]\n",
    "    # print(len(sents))\n",
    "    summary, _ = mem.get_summary(end_idx=end_idx)\n",
    "    summary = [s.replace('\\n\\n', '\\n') for s in summary]\n",
    "    # print(len(summary))\n",
    "    ret = summary + sents[end_idx:end_idx+10-len(summary)]\n",
    "    return ret\n",
    "build_lines_one(samples_pro[11], 40)"
   ]
  },
  {
   "cell_type": "code",
   "execution_count": null,
   "metadata": {},
   "outputs": [],
   "source": [
    "def build_sys(j):\n",
    "    sys = \"Style: \\n{0}\\n\\nBackground: \\n{1}\\n\\nPlot: \\n{2}\\n\\nProtagonists: \\n{3}\".format(j['style'], j['background'], j['plot'], j['protagonists'])\n",
    "    sys2 = 'We are writing this story block by block. Each block is around 200 words. Please follow the setting and style. The outline should be finished in around 10k words. '\n",
    "    return sys+'\\n\\n'+sys2\n",
    "print(build_sys(samples_pro[0]))"
   ]
  },
  {
   "cell_type": "code",
   "execution_count": null,
   "metadata": {},
   "outputs": [],
   "source": [
    "from utils.agent_utils import lines2messages\n",
    "def lines2turns(lines, sys, lang='Chinese'):\n",
    "    turns1 = lines2messages(lines, sys, lang)\n",
    "    turns2 = lines2messages(lines[:-1], sys, lang)\n",
    "    return turns1, turns2\n",
    "turns1, turns2 = lines2turns(build_lines_one(samples_pro[11], 40), build_sys(samples_pro[11]), lang)\n",
    "turns1"
   ]
  },
  {
   "cell_type": "code",
   "execution_count": null,
   "metadata": {},
   "outputs": [],
   "source": [
    "print(turns1[0]['content'])"
   ]
  },
  {
   "cell_type": "code",
   "execution_count": null,
   "metadata": {},
   "outputs": [],
   "source": [
    "messages_lst = []\n",
    "import random\n",
    "from tqdm import tqdm\n",
    "i = 0\n",
    "for sample in tqdm(samples_pro):\n",
    "    i += 1\n",
    "    mem = MemoryTree(sample['memory_maze'], lang=lang)\n",
    "    end_idxs = random.sample(range(2, len(mem.get_originals())-1), min(len(mem.get_originals())-3, 10))\n",
    "    for end_idx in end_idxs:\n",
    "        turns1, turns2 = lines2turns(build_lines_one(sample, end_idx), build_sys(sample), lang)\n",
    "        messages_lst.append(turns1)\n",
    "        messages_lst.append(turns2)"
   ]
  },
  {
   "cell_type": "code",
   "execution_count": null,
   "metadata": {},
   "outputs": [],
   "source": [
    "print(len(messages_lst))\n",
    "messages_lst[100]"
   ]
  },
  {
   "cell_type": "code",
   "execution_count": null,
   "metadata": {},
   "outputs": [],
   "source": [
    "import json\n",
    "def lst2jsonl(messages_lst, fn):\n",
    "    with open(fn, \"w\") as f:\n",
    "        for j in messages_lst:\n",
    "            f.write(json.dumps({\"messages\": j}) + \"\\n\")\n",
    "lst2jsonl(messages_lst, jsonl_filename_suffix(filename, 'mem'))"
   ]
  },
  {
   "cell_type": "code",
   "execution_count": null,
   "metadata": {},
   "outputs": [],
   "source": [
    "def deduplicate_jsonl(input_file, output_file):\n",
    "    # Create a set to store unique lines of the JSONL file\n",
    "    unique_lines = set()\n",
    "\n",
    "    # Open the input file in read mode\n",
    "    with open(input_file, 'r') as f:\n",
    "        # Read each line from the input file\n",
    "        for line in f:\n",
    "            # Convert the line to a dictionary\n",
    "            data = json.loads(line.strip())\n",
    "            # Convert the dictionary back to a string\n",
    "            json_string = json.dumps(data, sort_keys=True)\n",
    "            # Add the string to the set\n",
    "            unique_lines.add(json_string)\n",
    "\n",
    "    # Open the output file in write mode\n",
    "    with open(output_file, 'w') as f:\n",
    "        # Write each unique line to the output file\n",
    "        for line in unique_lines:\n",
    "            f.write(line + '\\n')\n",
    "\n",
    "# Example usage\n",
    "deduplicate_jsonl(jsonl_filename_suffix(filename, 'mem'), jsonl_filename_suffix(jsonl_filename_suffix(filename, 'mem'), 'deduplicated'))"
   ]
  },
  {
   "cell_type": "code",
   "execution_count": null,
   "metadata": {},
   "outputs": [],
   "source": [
    "import random\n",
    "def random_sample_half(input_file, output_file):\n",
    "    # Read lines from input file\n",
    "    with open(input_file, 'r') as infile:\n",
    "        lines = infile.readlines()\n",
    "\n",
    "    # Get half the length of lines\n",
    "    half_length = len(lines) // 2\n",
    "\n",
    "    # Randomly select half the lines\n",
    "    sampled_lines = random.sample(lines, half_length)\n",
    "\n",
    "    print(len(lines), len(sampled_lines))\n",
    "\n",
    "    # Save sampled lines to output file\n",
    "    with open(output_file, 'w') as outfile:\n",
    "        outfile.writelines(sampled_lines)\n",
    "random_sample_half(jsonl_filename_suffix(jsonl_filename_suffix(filename, 'mem'), 'deduplicated'), jsonl_filename_suffix(jsonl_filename_suffix(jsonl_filename_suffix(filename, 'mem'), 'deduplicated'), 'half'))"
   ]
  },
  {
   "cell_type": "code",
   "execution_count": null,
   "metadata": {},
   "outputs": [],
   "source": []
  }
 ],
 "metadata": {
  "kernelspec": {
   "display_name": "llm_agent",
   "language": "python",
   "name": "python3"
  },
  "language_info": {
   "codemirror_mode": {
    "name": "ipython",
    "version": 3
   },
   "file_extension": ".py",
   "mimetype": "text/x-python",
   "name": "python",
   "nbconvert_exporter": "python",
   "pygments_lexer": "ipython3",
   "version": "3.9.18"
  }
 },
 "nbformat": 4,
 "nbformat_minor": 2
}
