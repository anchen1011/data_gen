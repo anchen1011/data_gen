{
 "cells": [
  {
   "cell_type": "markdown",
   "metadata": {},
   "source": [
    "## Build Data"
   ]
  },
  {
   "cell_type": "code",
   "execution_count": null,
   "metadata": {},
   "outputs": [],
   "source": [
    "filename = 'samples_kiss_pro.jsonl'\n",
    "lang = 'English'"
   ]
  },
  {
   "cell_type": "code",
   "execution_count": null,
   "metadata": {},
   "outputs": [],
   "source": [
    "def filename_suffix(fn, suffix):\n",
    "    return fn.replace('.jsonl', f\"_{suffix}.jsonl\")\n",
    "filename_suffix(filename, 'test')"
   ]
  },
  {
   "cell_type": "code",
   "execution_count": null,
   "metadata": {},
   "outputs": [],
   "source": [
    "import jsonlines\n",
    "samples_pro = []\n",
    "with jsonlines.open(filename) as reader:\n",
    "    for item in reader:\n",
    "        samples_pro.append(item)"
   ]
  },
  {
   "cell_type": "code",
   "execution_count": null,
   "metadata": {},
   "outputs": [],
   "source": [
    "samples_pro = [sample for sample in samples_pro if 'memory_maze' in sample]\n",
    "# samples_pro.pop(334)\n",
    "# samples_pro.pop(334)\n",
    "# samples_pro.pop(391)\n",
    "len(samples_pro)"
   ]
  },
  {
   "cell_type": "code",
   "execution_count": null,
   "metadata": {},
   "outputs": [],
   "source": [
    "import sys\n",
    "sys.path.append('..')\n",
    "from agents.memory_tree import MemoryTree\n",
    "def build_lines_one(sample, end_idx=10):\n",
    "    mem = MemoryTree(sample['memory_maze'])\n",
    "    sents = mem.get_originals()\n",
    "    summary, _ = mem.get_summary(end_idx=end_idx)\n",
    "    ret = summary + sents[end_idx:end_idx+55-len(summary)]\n",
    "    return ret\n",
    "build_lines_one(samples_pro[10], 200)"
   ]
  },
  {
   "cell_type": "code",
   "execution_count": null,
   "metadata": {},
   "outputs": [],
   "source": [
    "def build_sys(j):\n",
    "    sys = \"Style: \\n{0}\\n\\nBackground: \\n{1}\\n\\nPlot: \\n{2}\\n\\nProtagonists: \\n{3}\".format(j['style'], j['background'], j['plot'], j['protagonists'])\n",
    "    sys2 = 'We are writing this story sentence by sentence. Please follow the setting and style. The outline should be finished in around 10k words. '\n",
    "    return {'role':'system', 'content': sys+'\\n\\n'+sys2}\n",
    "print(build_sys(samples_pro[0])['content'])"
   ]
  },
  {
   "cell_type": "code",
   "execution_count": null,
   "metadata": {},
   "outputs": [],
   "source": [
    "def lines2turns(lines, sys, lang='Chinese'):\n",
    "    user1 = f'Write the next sentence of the story in {lang}. '\n",
    "    user2 = lines[0].strip()\n",
    "    turns1 = [{'role': 'system', 'content': sys}]\n",
    "    turns2 = [{'role': 'system', 'content': sys}]\n",
    "    turns1 += [{'role': 'user', 'content': user1}]\n",
    "    turns2 += [{'role': 'user', 'content': user1+user2}]\n",
    "    for i in range(0, len(lines)-1, 2):\n",
    "        turns1.append({'role': 'assistant', 'content': lines[i]})\n",
    "        turns1.append({'role': 'user', 'content': lines[i+1]})\n",
    "    for i in range(1, len(lines)-1, 2):\n",
    "        turns2.append({'role': 'assistant', 'content': lines[i]})\n",
    "        turns2.append({'role': 'user', 'content': lines[i+1]})\n",
    "    return turns1, turns2\n",
    "turns1, turns2 = lines2turns(build_lines_one(samples_pro[10], 200), build_sys(samples_pro[0])['content'], lang)\n",
    "turns1"
   ]
  },
  {
   "cell_type": "code",
   "execution_count": null,
   "metadata": {},
   "outputs": [],
   "source": [
    "messages_lst = []\n",
    "import random\n",
    "from tqdm import tqdm\n",
    "i = 0\n",
    "for sample in tqdm(samples_pro):\n",
    "    i += 1\n",
    "    mem = MemoryTree(sample['memory_maze'], lang=lang)\n",
    "    end_idxs = random.sample(range(2, len(mem.get_originals())), 20)\n",
    "    for end_idx in end_idxs:\n",
    "        turns1, turns2 = lines2turns(build_lines_one(sample, end_idx), build_sys(sample)['content'], lang)\n",
    "        messages_lst.append(turns1)\n",
    "        messages_lst.append(turns2)"
   ]
  },
  {
   "cell_type": "code",
   "execution_count": null,
   "metadata": {},
   "outputs": [],
   "source": [
    "print(len(messages_lst))\n",
    "messages_lst[100]"
   ]
  },
  {
   "cell_type": "code",
   "execution_count": null,
   "metadata": {},
   "outputs": [],
   "source": [
    "import json\n",
    "def lst2jsonl(messages_lst, fn):\n",
    "    with open(fn, \"w\") as f:\n",
    "        for j in messages_lst:\n",
    "            f.write(json.dumps({\"messages\": j}) + \"\\n\")\n",
    "lst2jsonl(messages_lst, filename_suffix(filename, 'mem'))"
   ]
  },
  {
   "cell_type": "code",
   "execution_count": null,
   "metadata": {},
   "outputs": [],
   "source": [
    "def deduplicate_jsonl(input_file, output_file):\n",
    "    # Create a set to store unique lines of the JSONL file\n",
    "    unique_lines = set()\n",
    "\n",
    "    # Open the input file in read mode\n",
    "    with open(input_file, 'r') as f:\n",
    "        # Read each line from the input file\n",
    "        for line in f:\n",
    "            # Convert the line to a dictionary\n",
    "            data = json.loads(line.strip())\n",
    "            # Convert the dictionary back to a string\n",
    "            json_string = json.dumps(data, sort_keys=True)\n",
    "            # Add the string to the set\n",
    "            unique_lines.add(json_string)\n",
    "\n",
    "    # Open the output file in write mode\n",
    "    with open(output_file, 'w') as f:\n",
    "        # Write each unique line to the output file\n",
    "        for line in unique_lines:\n",
    "            f.write(line + '\\n')\n",
    "\n",
    "# Example usage\n",
    "deduplicate_jsonl(filename_suffix(filename, 'mem'), filename_suffix(filename_suffix(filename, 'mem'), 'deduplicated'))"
   ]
  },
  {
   "cell_type": "code",
   "execution_count": null,
   "metadata": {},
   "outputs": [],
   "source": [
    "import random\n",
    "def random_sample_half(input_file, output_file):\n",
    "    # Read lines from input file\n",
    "    with open(input_file, 'r') as infile:\n",
    "        lines = infile.readlines()\n",
    "\n",
    "    # Get half the length of lines\n",
    "    half_length = len(lines) // 2\n",
    "\n",
    "    # Randomly select half the lines\n",
    "    sampled_lines = random.sample(lines, half_length)\n",
    "\n",
    "    print(len(lines), len(sampled_lines))\n",
    "\n",
    "    # Save sampled lines to output file\n",
    "    with open(output_file, 'w') as outfile:\n",
    "        outfile.writelines(sampled_lines)\n",
    "random_sample_half(filename_suffix(filename_suffix(filename, 'mem'), 'deduplicated'), filename_suffix(filename_suffix(filename_suffix(filename, 'mem'), 'deduplicated'), 'half'))"
   ]
  },
  {
   "cell_type": "code",
   "execution_count": null,
   "metadata": {},
   "outputs": [],
   "source": []
  }
 ],
 "metadata": {
  "kernelspec": {
   "display_name": "llm_agent",
   "language": "python",
   "name": "python3"
  },
  "language_info": {
   "codemirror_mode": {
    "name": "ipython",
    "version": 3
   },
   "file_extension": ".py",
   "mimetype": "text/x-python",
   "name": "python",
   "nbconvert_exporter": "python",
   "pygments_lexer": "ipython3",
   "version": "3.9.18"
  }
 },
 "nbformat": 4,
 "nbformat_minor": 2
}
